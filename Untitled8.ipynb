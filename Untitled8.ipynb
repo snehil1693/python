{
  "nbformat": 4,
  "nbformat_minor": 0,
  "metadata": {
    "colab": {
      "name": "Untitled8.ipynb",
      "provenance": [],
      "authorship_tag": "ABX9TyMr/DbEDolw5GYSIhFPquAs",
      "include_colab_link": true
    },
    "kernelspec": {
      "name": "python3",
      "display_name": "Python 3"
    },
    "language_info": {
      "name": "python"
    }
  },
  "cells": [
    {
      "cell_type": "markdown",
      "metadata": {
        "id": "view-in-github",
        "colab_type": "text"
      },
      "source": [
        "<a href=\"https://colab.research.google.com/github/snehil1693/python/blob/main/Untitled8.ipynb\" target=\"_parent\"><img src=\"https://colab.research.google.com/assets/colab-badge.svg\" alt=\"Open In Colab\"/></a>"
      ]
    },
    {
      "cell_type": "code",
      "metadata": {
        "colab": {
          "base_uri": "https://localhost:8080/"
        },
        "id": "odeTKQ1KSnyt",
        "outputId": "9941cac0-a798-4246-9cb1-d60e42baf02d"
      },
      "source": [
        "test = \"hello world\"\n",
        "test1 = \"Python Programming\"\n",
        "print(test[4])\n",
        "print(test1[2:9])\n",
        "print(len(test))\n",
        "print(len(test1))"
      ],
      "execution_count": null,
      "outputs": [
        {
          "output_type": "stream",
          "name": "stdout",
          "text": [
            "o\n",
            "thon Pr\n",
            "11\n",
            "18\n"
          ]
        }
      ]
    },
    {
      "cell_type": "code",
      "metadata": {
        "colab": {
          "base_uri": "https://localhost:8080/"
        },
        "id": "HxzevvXITcNO",
        "outputId": "edebc4ea-26f6-48f7-b0df-f77b414e9549"
      },
      "source": [
        "str = \"this is string example...wow!!!\";\n",
        "suffix = \"wow!!!\";\n",
        "print(str.endswith(suffix))\n",
        "\n"
      ],
      "execution_count": null,
      "outputs": [
        {
          "output_type": "stream",
          "name": "stdout",
          "text": [
            "True\n"
          ]
        }
      ]
    },
    {
      "cell_type": "code",
      "metadata": {
        "colab": {
          "base_uri": "https://localhost:8080/"
        },
        "id": "d7OedZRVUM0W",
        "outputId": "e1e51753-abd0-44d6-a9de-41344bf60422"
      },
      "source": [
        "str = \"this is string example...wow!!!\";\n",
        "prefix = \"this\";\n",
        "print(str.startswith(prefix))"
      ],
      "execution_count": null,
      "outputs": [
        {
          "output_type": "stream",
          "name": "stdout",
          "text": [
            "True\n"
          ]
        }
      ]
    },
    {
      "cell_type": "code",
      "metadata": {
        "colab": {
          "base_uri": "https://localhost:8080/"
        },
        "id": "cq7XEfYTU2KW",
        "outputId": "4a00ab3e-3102-4ef8-ca10-e59c47776ec8"
      },
      "source": [
        "str1 = \"this is string example...wow!!!\";\n",
        "str2 = \"exam\";\n",
        "print(str1.find(str2))"
      ],
      "execution_count": null,
      "outputs": [
        {
          "output_type": "stream",
          "name": "stdout",
          "text": [
            "15\n"
          ]
        }
      ]
    },
    {
      "cell_type": "code",
      "metadata": {
        "colab": {
          "base_uri": "https://localhost:8080/"
        },
        "id": "IKA2qa4kVoYc",
        "outputId": "5aa799e3-9ad9-4734-968b-4a5dfbf2e92c"
      },
      "source": [
        "str1 = \"this is string example...wow!!!\";\n",
        "str2 = \"strog\";\n",
        "print(str1.find(str2))"
      ],
      "execution_count": null,
      "outputs": [
        {
          "output_type": "stream",
          "name": "stdout",
          "text": [
            "-1\n"
          ]
        }
      ]
    },
    {
      "cell_type": "code",
      "metadata": {
        "colab": {
          "base_uri": "https://localhost:8080/"
        },
        "id": "iWAocb3gTJ-S",
        "outputId": "2135fc34-2028-48fb-bd16-a078be012a40"
      },
      "source": [
        "str = \"this\";\n",
        "print(str.isalpha())"
      ],
      "execution_count": null,
      "outputs": [
        {
          "output_type": "stream",
          "name": "stdout",
          "text": [
            "True\n"
          ]
        }
      ]
    },
    {
      "cell_type": "code",
      "metadata": {
        "colab": {
          "base_uri": "https://localhost:8080/"
        },
        "id": "xaXNsfDLWrA_",
        "outputId": "fe2519d5-d607-4886-86e8-7d2d88b9e37e"
      },
      "source": [
        "str = \"this is string example...wow!!!\";\n",
        "print(str.isalpha())"
      ],
      "execution_count": null,
      "outputs": [
        {
          "output_type": "stream",
          "name": "stdout",
          "text": [
            "False\n"
          ]
        }
      ]
    },
    {
      "cell_type": "code",
      "metadata": {
        "colab": {
          "base_uri": "https://localhost:8080/"
        },
        "id": "uo2nT5rAXRjL",
        "outputId": "7f466768-32c0-4c1f-d65d-a2ea3534687a"
      },
      "source": [
        "str = \"123456\"\n",
        "print(str.isdigit())"
      ],
      "execution_count": null,
      "outputs": [
        {
          "output_type": "stream",
          "name": "stdout",
          "text": [
            "True\n"
          ]
        }
      ]
    },
    {
      "cell_type": "code",
      "metadata": {
        "colab": {
          "base_uri": "https://localhost:8080/"
        },
        "id": "-N63sBk-XdL9",
        "outputId": "a89a30a8-1b3c-49b4-a1fb-9d7f32d9d225"
      },
      "source": [
        "str = \"this is string example...wow!!!\";\n",
        "print(str.isdigit())"
      ],
      "execution_count": null,
      "outputs": [
        {
          "output_type": "stream",
          "name": "stdout",
          "text": [
            "False\n"
          ]
        }
      ]
    },
    {
      "cell_type": "code",
      "metadata": {
        "colab": {
          "base_uri": "https://localhost:8080/"
        },
        "id": "FOJfMfESX3-G",
        "outputId": "956c08de-ef20-4e07-8229-d8366f3b554b"
      },
      "source": [
        "str = \"THIS IS STRING EXAMPLE...WOW!!!\";\n",
        "print(str.isupper())"
      ],
      "execution_count": null,
      "outputs": [
        {
          "output_type": "stream",
          "name": "stdout",
          "text": [
            "True\n"
          ]
        }
      ]
    },
    {
      "cell_type": "code",
      "metadata": {
        "id": "IhSjoTihYPv1"
      },
      "source": [
        "str = \"T\""
      ],
      "execution_count": null,
      "outputs": []
    }
  ]
}