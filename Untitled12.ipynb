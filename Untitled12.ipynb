{
  "nbformat": 4,
  "nbformat_minor": 0,
  "metadata": {
    "colab": {
      "name": "Untitled12.ipynb",
      "provenance": [],
      "authorship_tag": "ABX9TyNLOz3kjygQDPlvw4LTiuDx",
      "include_colab_link": true
    },
    "kernelspec": {
      "name": "python3",
      "display_name": "Python 3"
    },
    "language_info": {
      "name": "python"
    }
  },
  "cells": [
    {
      "cell_type": "markdown",
      "metadata": {
        "id": "view-in-github",
        "colab_type": "text"
      },
      "source": [
        "<a href=\"https://colab.research.google.com/github/snehil1693/python/blob/main/Untitled12.ipynb\" target=\"_parent\"><img src=\"https://colab.research.google.com/assets/colab-badge.svg\" alt=\"Open In Colab\"/></a>"
      ]
    },
    {
      "cell_type": "code",
      "metadata": {
        "colab": {
          "base_uri": "https://localhost:8080/"
        },
        "id": "Xlyr6Y14qkpW",
        "outputId": "00a04ebe-f4be-4a02-bc20-86506e54aea2"
      },
      "source": [
        "str1 = \"hello how are you hello hi\"\n",
        "get_string = str1.split(\" \")\n",
        "print(get_string)\n",
        "get_srting_duplicate = set(str1.split(\" \"))\n",
        "for i in get_srting_duplicate:\n",
        "  print(i , \" \" , get_string.count(i))"
      ],
      "execution_count": 6,
      "outputs": [
        {
          "output_type": "stream",
          "name": "stdout",
          "text": [
            "['hello', 'how', 'are', 'you', 'hello', 'hi']\n",
            "how   1\n",
            "hi   1\n",
            "you   1\n",
            "are   1\n",
            "hello   2\n"
          ]
        }
      ]
    },
    {
      "cell_type": "code",
      "metadata": {
        "colab": {
          "base_uri": "https://localhost:8080/"
        },
        "id": "xUJ3Qw1Qrz0V",
        "outputId": "40572aff-0533-4c9e-9367-53e2fbf54961"
      },
      "source": [
        "str1 = \"hello how are you hello hi\"\n",
        "get_string = str1.split(\" \")\n",
        "print(len(get_string))\n"
      ],
      "execution_count": 15,
      "outputs": [
        {
          "output_type": "stream",
          "name": "stdout",
          "text": [
            "6\n"
          ]
        }
      ]
    },
    {
      "cell_type": "code",
      "metadata": {
        "colab": {
          "base_uri": "https://localhost:8080/"
        },
        "id": "yiHMxlBnswhI",
        "outputId": "3b5a64a3-c949-4cdf-8bb5-bab0f461560a"
      },
      "source": [
        "str1 = \"hello how are you hello hi\"\n",
        "get_string = str1.split(\" \")\n",
        "get_char_occurance = set(str1.split(\" \"))\n",
        "for i in get_char_occurance:\n",
        "  print(i, \" \" , get_string.count(i))\n"
      ],
      "execution_count": 21,
      "outputs": [
        {
          "output_type": "stream",
          "name": "stdout",
          "text": [
            "how   1\n",
            "hi   1\n",
            "you   1\n",
            "are   1\n",
            "hello   2\n"
          ]
        }
      ]
    },
    {
      "cell_type": "code",
      "metadata": {
        "colab": {
          "base_uri": "https://localhost:8080/"
        },
        "id": "z5yUzHqfwj_z",
        "outputId": "906f936a-d2af-437f-e90b-8b73d9f1809a"
      },
      "source": [
        "str1 = \"hello how are you\"\n",
        "char = \"h\"\n",
        "get_count = str1.count(char)\n",
        "print(get_count)"
      ],
      "execution_count": 47,
      "outputs": [
        {
          "output_type": "stream",
          "name": "stdout",
          "text": [
            "2\n"
          ]
        }
      ]
    },
    {
      "cell_type": "code",
      "metadata": {
        "colab": {
          "base_uri": "https://localhost:8080/"
        },
        "id": "Xwl4AlupzrNV",
        "outputId": "7a55c707-87d5-485b-e970-26a7c122c626"
      },
      "source": [
        "str1 = \"hello how are you\"\n",
        "get_string = str1.split(\" \")\n",
        "get_reverse = str1[:: -1]\n",
        "print(get_string)\n",
        "print(get_reverse)"
      ],
      "execution_count": 51,
      "outputs": [
        {
          "output_type": "stream",
          "name": "stdout",
          "text": [
            "['hello', 'how', 'are', 'you']\n",
            "uoy era woh olleh\n"
          ]
        }
      ]
    },
    {
      "cell_type": "code",
      "metadata": {
        "id": "djPt8m5008MV"
      },
      "source": [
        "str1 = \"hello how are you\"\n",
        "for i in str1:\n",
        "  print(i , \" \", )"
      ],
      "execution_count": null,
      "outputs": []
    }
  ]
}