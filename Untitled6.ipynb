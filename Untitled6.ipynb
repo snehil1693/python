{
  "nbformat": 4,
  "nbformat_minor": 0,
  "metadata": {
    "colab": {
      "name": "Untitled6.ipynb",
      "provenance": [],
      "toc_visible": true,
      "authorship_tag": "ABX9TyN+ky1r5I9gRG44/FUzXuWt",
      "include_colab_link": true
    },
    "kernelspec": {
      "name": "python3",
      "display_name": "Python 3"
    },
    "language_info": {
      "name": "python"
    }
  },
  "cells": [
    {
      "cell_type": "markdown",
      "metadata": {
        "id": "view-in-github",
        "colab_type": "text"
      },
      "source": [
        "<a href=\"https://colab.research.google.com/github/snehil1693/python/blob/main/Untitled6.ipynb\" target=\"_parent\"><img src=\"https://colab.research.google.com/assets/colab-badge.svg\" alt=\"Open In Colab\"/></a>"
      ]
    },
    {
      "cell_type": "code",
      "metadata": {
        "colab": {
          "base_uri": "https://localhost:8080/"
        },
        "id": "UdCKqZUeEaPN",
        "outputId": "97820504-fb8d-4e42-df43-1bde20c9e7f2"
      },
      "source": [
        "list1 = [56,-98,12,-30,76,51,23,34]\n",
        "get_length = len(list1)\n",
        "for i in range (0,len(list1)):\n",
        "  if(list1[i]<0):\n",
        "    print(list1[i])\n"
      ],
      "execution_count": null,
      "outputs": [
        {
          "output_type": "stream",
          "text": [
            "8\n",
            "-98\n",
            "-30\n"
          ],
          "name": "stdout"
        }
      ]
    },
    {
      "cell_type": "code",
      "metadata": {
        "id": "Mwjp_H9bNozC"
      },
      "source": [
        "from google.colab import drive\n",
        "drive.mount('/content/drive')"
      ],
      "execution_count": null,
      "outputs": []
    },
    {
      "cell_type": "code",
      "metadata": {
        "colab": {
          "base_uri": "https://localhost:8080/"
        },
        "id": "HAlBUOqKGtbs",
        "outputId": "78595ae8-69af-47b0-badc-febd4d2c1093"
      },
      "source": [
        "list2 = [56,-98,12,-30,76,51,23,34]\n",
        "get_length = len(list2)\n",
        "test_count = 0\n",
        "for i in range (0,len(list2)):\n",
        "  if(list2[i]<0):\n",
        "    test_count = test_count + 1\n",
        "print(test_count)    \n",
        "\n",
        "    \n"
      ],
      "execution_count": null,
      "outputs": [
        {
          "output_type": "stream",
          "text": [
            "2\n"
          ],
          "name": "stdout"
        }
      ]
    },
    {
      "cell_type": "code",
      "metadata": {
        "colab": {
          "base_uri": "https://localhost:8080/"
        },
        "id": "zX7wBmgAICGz",
        "outputId": "55615f07-7622-4dfc-b400-aee684a27292"
      },
      "source": [
        "list3 = [56,-98,12,-30,76,51,23,34]\n",
        "get_length = len(list3)\n",
        "test_sum = 0\n",
        "for i in range (0,len(list3)):\n",
        "  test_sum = list3[i] + test_sum\n",
        "print(test_sum)\n"
      ],
      "execution_count": null,
      "outputs": [
        {
          "output_type": "stream",
          "text": [
            "124\n"
          ],
          "name": "stdout"
        }
      ]
    },
    {
      "cell_type": "code",
      "metadata": {
        "colab": {
          "base_uri": "https://localhost:8080/"
        },
        "id": "hZSIj3QcJNVN",
        "outputId": "bb3a0819-7a5e-4114-f52f-ac4c388ea5ce"
      },
      "source": [
        "list4 = [56,-98,12,-30,76,51,23,34]\n",
        "get_length = len(list4)\n",
        "highest = 100\n",
        "for i in range (0,len(list4)):\n",
        "  if (list4[i] > 0):\n",
        "    highest = highest > (list4[i])\n",
        "    print(highest)\n",
        "  elif (list4[i]<0):\n",
        "    print(list4[i])\n",
        "  "
      ],
      "execution_count": null,
      "outputs": [
        {
          "output_type": "stream",
          "text": [
            "True\n",
            "-98\n",
            "False\n",
            "-30\n",
            "False\n",
            "False\n",
            "False\n",
            "False\n"
          ],
          "name": "stdout"
        }
      ]
    },
    {
      "cell_type": "code",
      "metadata": {
        "colab": {
          "base_uri": "https://localhost:8080/"
        },
        "id": "PCWhuda1fyk8",
        "outputId": "8f9a8e68-ddac-460b-9357-125fd0bd6616"
      },
      "source": [
        "list4 = [56,-98,12,-30,76,51,23,34]\n",
        "get_length = len(list4)\n",
        "test_max = list4[0]\n",
        "for i in list4:\n",
        "  if(i>test_max):\n",
        "    test_max = i\n",
        "print(test_max)    \n",
        "  "
      ],
      "execution_count": null,
      "outputs": [
        {
          "output_type": "stream",
          "text": [
            "123\n"
          ],
          "name": "stdout"
        }
      ]
    },
    {
      "cell_type": "code",
      "metadata": {
        "colab": {
          "base_uri": "https://localhost:8080/"
        },
        "id": "7iB8m7ZZhMDb",
        "outputId": "bd079b04-214f-4992-e4fd-3bfcb987116f"
      },
      "source": [
        "list4 = [56,-98,12,-30,76,51,23,34]\n",
        "get_length = len(list4)\n",
        "test_max = list4[0]\n",
        "for i in list4:\n",
        "  if(i>test_max):\n",
        "    test_max = i\n",
        "print(test_max)\n"
      ],
      "execution_count": null,
      "outputs": [
        {
          "output_type": "stream",
          "text": [
            "76\n"
          ],
          "name": "stdout"
        }
      ]
    },
    {
      "cell_type": "code",
      "metadata": {
        "colab": {
          "base_uri": "https://localhost:8080/"
        },
        "id": "l8OZvOw6jFMf",
        "outputId": "1b2b599a-8f8f-4ce6-b09b-05f09c673299"
      },
      "source": [
        "list4 = [56,-98,12,-30,76,51,23,34]\n",
        "get_length = len(list4)\n",
        "test_min = list4[0]\n",
        "for i in list4:\n",
        "  if(i<test_min):\n",
        "    test_min = i\n",
        "print(test_min)"
      ],
      "execution_count": null,
      "outputs": [
        {
          "output_type": "stream",
          "text": [
            "-98\n"
          ],
          "name": "stdout"
        }
      ]
    },
    {
      "cell_type": "code",
      "metadata": {
        "colab": {
          "base_uri": "https://localhost:8080/"
        },
        "id": "ulLbFFnXj8aU",
        "outputId": "72bc2f37-9723-444d-f6e6-e6142af41dcd"
      },
      "source": [
        "list4 = [56,-98,12,-30,76,51,23,34]\n",
        "\n",
        "test_even = 0\n",
        "for i in list4:\n",
        "  if(i % 2 == 0):\n",
        "    test_even = test_even +1 \n",
        "print(test_even)"
      ],
      "execution_count": null,
      "outputs": [
        {
          "output_type": "stream",
          "text": [
            "6\n"
          ],
          "name": "stdout"
        }
      ]
    },
    {
      "cell_type": "code",
      "metadata": {
        "colab": {
          "base_uri": "https://localhost:8080/"
        },
        "id": "vyZsBTy-lW1v",
        "outputId": "f6362959-07bc-4a2f-d1fa-7ae804b3a266"
      },
      "source": [
        "list4 = [56,-98,12,-30,76,51,23,34]\n",
        "test_odd = 0\n",
        "for i in list4:\n",
        "  if(i % 2 != 0):\n",
        "    test_odd = test_odd + 1\n",
        "print(test_odd)\n"
      ],
      "execution_count": null,
      "outputs": [
        {
          "output_type": "stream",
          "text": [
            "2\n"
          ],
          "name": "stdout"
        }
      ]
    },
    {
      "cell_type": "code",
      "metadata": {
        "colab": {
          "base_uri": "https://localhost:8080/"
        },
        "id": "0O6VmeNmmJNh",
        "outputId": "4b8dee6d-b3a8-4c75-b0ae-a5ae4abceaec"
      },
      "source": [
        "list4 = [56,-98,12,-30,76,51,23,34]\n",
        "test_neg = 0\n",
        "for i in list4:\n",
        "  if(i<0):\n",
        "    test_neg = test_neg + 1\n",
        "print(test_neg)\n"
      ],
      "execution_count": null,
      "outputs": [
        {
          "output_type": "stream",
          "text": [
            "2\n"
          ],
          "name": "stdout"
        }
      ]
    },
    {
      "cell_type": "code",
      "metadata": {
        "colab": {
          "base_uri": "https://localhost:8080/"
        },
        "id": "msmG90sLmqQP",
        "outputId": "227cab4f-8846-42dd-9e35-6784447ad40a"
      },
      "source": [
        "list4 = [56,-98,12,-30,76,51,23,34]\n",
        "list5 = list4\n",
        "print(list5)\n"
      ],
      "execution_count": null,
      "outputs": [
        {
          "output_type": "stream",
          "text": [
            "[56, -98, 12, -30, 76, 51, 23, 34]\n"
          ],
          "name": "stdout"
        }
      ]
    },
    {
      "cell_type": "code",
      "metadata": {
        "id": "Tiznrbmxnypf"
      },
      "source": [
        "list4 = [56,-98,12,-30,76,51,23,34]\n"
      ],
      "execution_count": null,
      "outputs": []
    }
  ]
}