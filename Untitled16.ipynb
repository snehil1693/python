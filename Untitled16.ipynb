{
  "nbformat": 4,
  "nbformat_minor": 0,
  "metadata": {
    "colab": {
      "name": "Untitled16.ipynb",
      "provenance": [],
      "authorship_tag": "ABX9TyMdEdFD2y7P0eAqiZLWn9ce",
      "include_colab_link": true
    },
    "kernelspec": {
      "name": "python3",
      "display_name": "Python 3"
    },
    "language_info": {
      "name": "python"
    }
  },
  "cells": [
    {
      "cell_type": "markdown",
      "metadata": {
        "id": "view-in-github",
        "colab_type": "text"
      },
      "source": [
        "<a href=\"https://colab.research.google.com/github/snehil1693/python/blob/main/Untitled16.ipynb\" target=\"_parent\"><img src=\"https://colab.research.google.com/assets/colab-badge.svg\" alt=\"Open In Colab\"/></a>"
      ]
    },
    {
      "cell_type": "code",
      "metadata": {
        "colab": {
          "base_uri": "https://localhost:8080/"
        },
        "id": "m7q9SkezbfWH",
        "outputId": "8ff6aac6-ed13-4ba1-e01a-cb080d452c86"
      },
      "source": [
        "dict1 = {'Name':'Zara', 'Age':7, 'Class':'First'}\n",
        "print(dict1['Name'])"
      ],
      "execution_count": 2,
      "outputs": [
        {
          "output_type": "stream",
          "name": "stdout",
          "text": [
            "Zara\n"
          ]
        }
      ]
    },
    {
      "cell_type": "code",
      "metadata": {
        "colab": {
          "base_uri": "https://localhost:8080/",
          "height": 200
        },
        "id": "Ebps4ELHcLD1",
        "outputId": "8a5908b3-ca60-4875-9ae2-c1581c6f7684"
      },
      "source": [
        "dict1 = {'Name':'Zara', 'Age':7, 'Class':'First'}\n",
        "print(dict1['Age12'])\n"
      ],
      "execution_count": 4,
      "outputs": [
        {
          "output_type": "error",
          "ename": "KeyError",
          "evalue": "ignored",
          "traceback": [
            "\u001b[0;31m---------------------------------------------------------------------------\u001b[0m",
            "\u001b[0;31mKeyError\u001b[0m                                  Traceback (most recent call last)",
            "\u001b[0;32m<ipython-input-4-9a60a5a2b5f1>\u001b[0m in \u001b[0;36m<module>\u001b[0;34m()\u001b[0m\n\u001b[1;32m      1\u001b[0m \u001b[0mdict1\u001b[0m \u001b[0;34m=\u001b[0m \u001b[0;34m{\u001b[0m\u001b[0;34m'Name'\u001b[0m\u001b[0;34m:\u001b[0m\u001b[0;34m'Zara'\u001b[0m\u001b[0;34m,\u001b[0m \u001b[0;34m'Age'\u001b[0m\u001b[0;34m:\u001b[0m\u001b[0;36m7\u001b[0m\u001b[0;34m,\u001b[0m \u001b[0;34m'Class'\u001b[0m\u001b[0;34m:\u001b[0m\u001b[0;34m'First'\u001b[0m\u001b[0;34m}\u001b[0m\u001b[0;34m\u001b[0m\u001b[0;34m\u001b[0m\u001b[0m\n\u001b[0;32m----> 2\u001b[0;31m \u001b[0mprint\u001b[0m\u001b[0;34m(\u001b[0m\u001b[0mdict1\u001b[0m\u001b[0;34m[\u001b[0m\u001b[0;34m'Age12'\u001b[0m\u001b[0;34m]\u001b[0m\u001b[0;34m)\u001b[0m\u001b[0;34m\u001b[0m\u001b[0;34m\u001b[0m\u001b[0m\n\u001b[0m\u001b[1;32m      3\u001b[0m \u001b[0mprint\u001b[0m\u001b[0;34m(\u001b[0m\u001b[0mdict1\u001b[0m\u001b[0;34m)\u001b[0m\u001b[0;34m\u001b[0m\u001b[0;34m\u001b[0m\u001b[0m\n",
            "\u001b[0;31mKeyError\u001b[0m: 'Age12'"
          ]
        }
      ]
    },
    {
      "cell_type": "code",
      "metadata": {
        "colab": {
          "base_uri": "https://localhost:8080/"
        },
        "id": "KTHtBkJAcdmO",
        "outputId": "8816a4af-90d9-4624-ae20-bc2ba61944dd"
      },
      "source": [
        "dict1 = {'Name':'Zara', 'Age':7, 'Class':'First'}\n",
        "print(dict1)"
      ],
      "execution_count": 5,
      "outputs": [
        {
          "output_type": "stream",
          "name": "stdout",
          "text": [
            "{'Name': 'Zara', 'Age': 7, 'Class': 'First'}\n"
          ]
        }
      ]
    },
    {
      "cell_type": "code",
      "metadata": {
        "colab": {
          "base_uri": "https://localhost:8080/"
        },
        "id": "PGO3I0KSck7H",
        "outputId": "7b6ad270-8d04-465c-9061-68fb6520ae96"
      },
      "source": [
        "dict1 = {'Name':'Zara', 'Age':7, 'Class':'First'}\n",
        "dict1['Age'] = 8\n",
        "print(dict1)"
      ],
      "execution_count": 6,
      "outputs": [
        {
          "output_type": "stream",
          "name": "stdout",
          "text": [
            "{'Name': 'Zara', 'Age': 8, 'Class': 'First'}\n"
          ]
        }
      ]
    },
    {
      "cell_type": "code",
      "metadata": {
        "colab": {
          "base_uri": "https://localhost:8080/"
        },
        "id": "Jf6Ndk_3c2J0",
        "outputId": "2a36085b-0f9d-4549-8199-cac467ac5d8a"
      },
      "source": [
        "dict1 = {'Name':'Zara', 'Age':7, 'Class':'First'}\n",
        "dict1['Age'] = 8\n",
        "dict1['School'] = \"DPS School\"\n",
        "print(dict1)"
      ],
      "execution_count": 8,
      "outputs": [
        {
          "output_type": "stream",
          "name": "stdout",
          "text": [
            "{'Name': 'Zara', 'Age': 8, 'Class': 'First', 'School': 'DPS School'}\n"
          ]
        }
      ]
    },
    {
      "cell_type": "code",
      "metadata": {
        "colab": {
          "base_uri": "https://localhost:8080/"
        },
        "id": "dT_tsSzBdNcg",
        "outputId": "0a0f87ac-76dc-46c8-c1ce-488571883dd8"
      },
      "source": [
        "dict1 = {'Name': 'Zara', 'Age': 8, 'Class': 'First', 'School': 'DPS School'}\n",
        "print(dict1['Age'])\n",
        "print(dict1['School'])\n",
        "print(dict1)"
      ],
      "execution_count": 12,
      "outputs": [
        {
          "output_type": "stream",
          "name": "stdout",
          "text": [
            "8\n",
            "DPS School\n",
            "{'Name': 'Zara', 'Age': 8, 'Class': 'First', 'School': 'DPS School'}\n"
          ]
        }
      ]
    },
    {
      "cell_type": "code",
      "metadata": {
        "colab": {
          "base_uri": "https://localhost:8080/"
        },
        "id": "dopAFVivd3SZ",
        "outputId": "57ee3b03-a63a-4a9b-c550-9ad2e5b8fe7e"
      },
      "source": [
        "test_dir = {'Name': 'Zara', 'Age':7, 'Class':'First'}\n",
        "test_dir.clear()\n",
        "print(test_dir)"
      ],
      "execution_count": 14,
      "outputs": [
        {
          "output_type": "stream",
          "name": "stdout",
          "text": [
            "{}\n"
          ]
        }
      ]
    },
    {
      "cell_type": "code",
      "metadata": {
        "colab": {
          "base_uri": "https://localhost:8080/",
          "height": 200
        },
        "id": "t-WtNHTneb1M",
        "outputId": "727c6798-149f-4cf3-c9ab-0e91251bbcbc"
      },
      "source": [
        "test_dir = {'Name': 'Zara', 'Age':7, 'Class':'First'}\n",
        "del test_dir\n",
        "print(test_dir)"
      ],
      "execution_count": 17,
      "outputs": [
        {
          "output_type": "error",
          "ename": "NameError",
          "evalue": "ignored",
          "traceback": [
            "\u001b[0;31m---------------------------------------------------------------------------\u001b[0m",
            "\u001b[0;31mNameError\u001b[0m                                 Traceback (most recent call last)",
            "\u001b[0;32m<ipython-input-17-9a68987cbd44>\u001b[0m in \u001b[0;36m<module>\u001b[0;34m()\u001b[0m\n\u001b[1;32m      1\u001b[0m \u001b[0mtest_dir\u001b[0m \u001b[0;34m=\u001b[0m \u001b[0;34m{\u001b[0m\u001b[0;34m'Name'\u001b[0m\u001b[0;34m:\u001b[0m \u001b[0;34m'Zara'\u001b[0m\u001b[0;34m,\u001b[0m \u001b[0;34m'Age'\u001b[0m\u001b[0;34m:\u001b[0m\u001b[0;36m7\u001b[0m\u001b[0;34m,\u001b[0m \u001b[0;34m'Class'\u001b[0m\u001b[0;34m:\u001b[0m\u001b[0;34m'First'\u001b[0m\u001b[0;34m}\u001b[0m\u001b[0;34m\u001b[0m\u001b[0;34m\u001b[0m\u001b[0m\n\u001b[1;32m      2\u001b[0m \u001b[0;32mdel\u001b[0m \u001b[0mtest_dir\u001b[0m\u001b[0;34m\u001b[0m\u001b[0;34m\u001b[0m\u001b[0m\n\u001b[0;32m----> 3\u001b[0;31m \u001b[0mprint\u001b[0m\u001b[0;34m(\u001b[0m\u001b[0mtest_dir\u001b[0m\u001b[0;34m)\u001b[0m\u001b[0;34m\u001b[0m\u001b[0;34m\u001b[0m\u001b[0m\n\u001b[0m",
            "\u001b[0;31mNameError\u001b[0m: name 'test_dir' is not defined"
          ]
        }
      ]
    },
    {
      "cell_type": "code",
      "metadata": {
        "colab": {
          "base_uri": "https://localhost:8080/"
        },
        "id": "tYYOnwilfJv-",
        "outputId": "415d9ee5-3969-49f5-db50-3b1f9f8abca1"
      },
      "source": [
        "ex = {'Name': 'Zara', 'Age':7, 'Class': 'Second'}\n",
        "print(len(ex))\n"
      ],
      "execution_count": 18,
      "outputs": [
        {
          "output_type": "stream",
          "name": "stdout",
          "text": [
            "3\n"
          ]
        }
      ]
    },
    {
      "cell_type": "code",
      "metadata": {
        "colab": {
          "base_uri": "https://localhost:8080/"
        },
        "id": "Q0XdI3M5fh1Z",
        "outputId": "b36dd82b-0ee8-4293-fe5e-d9896963030f"
      },
      "source": [
        "dict = {'Name': 'Zara', 'Age':7}\n",
        "print (dict.get('Age'))\n",
        "print (dict.get('Name'))\n",
        "print (dict.get('Education', \"Never\"))"
      ],
      "execution_count": 20,
      "outputs": [
        {
          "output_type": "stream",
          "name": "stdout",
          "text": [
            "7\n",
            "Zara\n",
            "Never\n"
          ]
        }
      ]
    },
    {
      "cell_type": "code",
      "metadata": {
        "colab": {
          "base_uri": "https://localhost:8080/"
        },
        "id": "mpdjIIjcgTz_",
        "outputId": "c3790f76-c475-427c-9e6e-c7356bd3197f"
      },
      "source": [
        "dict = {'Name': 'Zara', 'Age':7}\n",
        "print (dict.get('Age1'))"
      ],
      "execution_count": 21,
      "outputs": [
        {
          "output_type": "stream",
          "name": "stdout",
          "text": [
            "None\n"
          ]
        }
      ]
    },
    {
      "cell_type": "code",
      "metadata": {
        "colab": {
          "base_uri": "https://localhost:8080/"
        },
        "id": "WISsvEOlglU-",
        "outputId": "bf1007d2-e9e8-4067-b7d7-7df96a679ecc"
      },
      "source": [
        "dict = {'Name': 'Zara', 'Age':7}\n",
        "print (dict.get('Education', \"Snehil\"))"
      ],
      "execution_count": 23,
      "outputs": [
        {
          "output_type": "stream",
          "name": "stdout",
          "text": [
            "Snehil\n"
          ]
        }
      ]
    },
    {
      "cell_type": "code",
      "metadata": {
        "colab": {
          "base_uri": "https://localhost:8080/"
        },
        "id": "WuTal4Fqgurf",
        "outputId": "24c4e82e-3fee-47a0-dba5-5a9a3d55343f"
      },
      "source": [
        "dict = {'Name': 'Zara', 'Age':7}\n",
        "print (dict.__contains__('Name'))"
      ],
      "execution_count": 29,
      "outputs": [
        {
          "output_type": "stream",
          "name": "stdout",
          "text": [
            "True\n"
          ]
        }
      ]
    },
    {
      "cell_type": "code",
      "metadata": {
        "colab": {
          "base_uri": "https://localhost:8080/"
        },
        "id": "4lLuVGDIhera",
        "outputId": "5e47af64-1609-4bd3-b47c-c037e5de663d"
      },
      "source": [
        "dict = {'Name': 'Zara', 'Age':7}\n",
        "print (dict.__contains__('Sex'))"
      ],
      "execution_count": 31,
      "outputs": [
        {
          "output_type": "stream",
          "name": "stdout",
          "text": [
            "False\n"
          ]
        }
      ]
    },
    {
      "cell_type": "code",
      "metadata": {
        "colab": {
          "base_uri": "https://localhost:8080/"
        },
        "id": "JVzY_4YShkps",
        "outputId": "27c75137-1962-4d4b-c0ea-98a7b397205f"
      },
      "source": [
        "ex = {'Name': 'Zara', 'Age':7}\n",
        "print (ex.keys())\n"
      ],
      "execution_count": 32,
      "outputs": [
        {
          "output_type": "stream",
          "name": "stdout",
          "text": [
            "dict_keys(['Name', 'Age'])\n"
          ]
        }
      ]
    },
    {
      "cell_type": "code",
      "metadata": {
        "colab": {
          "base_uri": "https://localhost:8080/"
        },
        "id": "JbI7l7fIh74W",
        "outputId": "f69c2b30-0d10-4476-d70c-107fb8ef5209"
      },
      "source": [
        "ex = {'Name': 'Zara', 'Age':7}\n",
        "print (list(ex.keys()))"
      ],
      "execution_count": 33,
      "outputs": [
        {
          "output_type": "stream",
          "name": "stdout",
          "text": [
            "['Name', 'Age']\n"
          ]
        }
      ]
    },
    {
      "cell_type": "code",
      "metadata": {
        "colab": {
          "base_uri": "https://localhost:8080/"
        },
        "id": "dEmzqGSqiDlf",
        "outputId": "45acaac0-a2a0-4c8b-e52e-44b79f2347ce"
      },
      "source": [
        "ex = {'Name': 'Zara', 'Age':7}\n",
        "print (list(ex.values()))"
      ],
      "execution_count": 34,
      "outputs": [
        {
          "output_type": "stream",
          "name": "stdout",
          "text": [
            "['Zara', 7]\n"
          ]
        }
      ]
    },
    {
      "cell_type": "code",
      "metadata": {
        "colab": {
          "base_uri": "https://localhost:8080/"
        },
        "id": "e4rJeA3piH7y",
        "outputId": "b4694aeb-e403-4784-fe3a-36b2bfc145cc"
      },
      "source": [
        "ex = {'Name': ['aakash','kuamr'], 'Age': ['10,20,30,40'], 'Sex':['Male','Female']}\n",
        "res = ex['Age']\n",
        "print(res)"
      ],
      "execution_count": 35,
      "outputs": [
        {
          "output_type": "stream",
          "name": "stdout",
          "text": [
            "['10,20,30,40']\n"
          ]
        }
      ]
    },
    {
      "cell_type": "code",
      "metadata": {
        "colab": {
          "base_uri": "https://localhost:8080/"
        },
        "id": "BZmEZK-miymW",
        "outputId": "bda110d6-2bc1-4a53-bf6c-b0c877d7bfd2"
      },
      "source": [
        "ex = {'Name': ['aakash','kuamr'], 'Age': ['10,20,30,40'], 'Sex':['Male','Female']}\n",
        "res = ex['Age']\n",
        "print(len(res))"
      ],
      "execution_count": 36,
      "outputs": [
        {
          "output_type": "stream",
          "name": "stdout",
          "text": [
            "1\n"
          ]
        }
      ]
    }
  ]
}