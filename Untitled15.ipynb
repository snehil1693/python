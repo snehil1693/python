{
  "nbformat": 4,
  "nbformat_minor": 0,
  "metadata": {
    "colab": {
      "name": "Untitled15.ipynb",
      "provenance": [],
      "authorship_tag": "ABX9TyOXIMHkPVRawkIPfIIqb8v5",
      "include_colab_link": true
    },
    "kernelspec": {
      "name": "python3",
      "display_name": "Python 3"
    },
    "language_info": {
      "name": "python"
    }
  },
  "cells": [
    {
      "cell_type": "markdown",
      "metadata": {
        "id": "view-in-github",
        "colab_type": "text"
      },
      "source": [
        "<a href=\"https://colab.research.google.com/github/snehil1693/python/blob/main/Untitled15.ipynb\" target=\"_parent\"><img src=\"https://colab.research.google.com/assets/colab-badge.svg\" alt=\"Open In Colab\"/></a>"
      ]
    },
    {
      "cell_type": "code",
      "metadata": {
        "colab": {
          "base_uri": "https://localhost:8080/"
        },
        "id": "PeompnZE7cH3",
        "outputId": "5c93c90d-f5fd-41d2-d8a1-e942abacd663"
      },
      "source": [
        "get_num1 = 12345\n",
        "get_reverse = 0\n",
        "while (get_num1 !=0):\n",
        "  get_remainder = get_num1 % 10;\n",
        "  get_reverse = get_reverse*10 + get_remainder;\n",
        "  get_num1 = get_num1//10;\n",
        "print(get_reverse)\n",
        "\n"
      ],
      "execution_count": null,
      "outputs": [
        {
          "output_type": "stream",
          "name": "stdout",
          "text": [
            "54321\n"
          ]
        }
      ]
    },
    {
      "cell_type": "code",
      "metadata": {
        "colab": {
          "base_uri": "https://localhost:8080/"
        },
        "id": "Z_49xV1DBOOJ",
        "outputId": "5985632b-e750-4865-a432-dc3edb14fffe"
      },
      "source": [
        "get_num1 = 1345\n",
        "get_num2 = get_num1\n",
        "get_reverse = 0\n",
        "while (get_num1 !=0):\n",
        "  get_remainder = get_num1 % 10;\n",
        "  get_reverse = get_reverse*10 + get_remainder;\n",
        "  get_num1 = get_num1//10;\n",
        "if(get_reverse == get_num2):\n",
        "  print(\"palindrome\")\n",
        "else:\n",
        "  print(\"not palindrome\")  \n",
        "\n",
        "\n",
        "       \n",
        "     \n",
        "    "
      ],
      "execution_count": null,
      "outputs": [
        {
          "output_type": "stream",
          "name": "stdout",
          "text": [
            "not palindrome\n"
          ]
        }
      ]
    },
    {
      "cell_type": "code",
      "metadata": {
        "colab": {
          "base_uri": "https://localhost:8080/"
        },
        "id": "k_g-_ImjEDjP",
        "outputId": "5751f221-2afe-4f23-f9c8-bcb83d351fa0"
      },
      "source": [
        "get_num1 = 12345\n",
        "get_addition = 0\n",
        "while (get_num1 !=0):\n",
        "  get_remainder = get_num1 %10;\n",
        "  get_addition = get_addition + get_remainder\n",
        "  get_num1 = get_num1//10\n",
        "\n",
        "print(get_addition)"
      ],
      "execution_count": null,
      "outputs": [
        {
          "output_type": "stream",
          "name": "stdout",
          "text": [
            "15\n"
          ]
        }
      ]
    },
    {
      "cell_type": "code",
      "metadata": {
        "colab": {
          "base_uri": "https://localhost:8080/"
        },
        "id": "Zd71NZSrSBhx",
        "outputId": "b553e356-40a0-4bbb-c99f-03e7867b6df8"
      },
      "source": [
        "get_num = 5\n",
        "first_answer = (2 ** get_num) + 1\n",
        "second_answer = (2*get_num) + 1\n",
        "get_rem = (first_answer%second_answer)\n",
        "if(get_rem==0):\n",
        "  print(\"it is a curzon number\")\n",
        "else:\n",
        "  print(\"it is not a curzon number\")  \n"
      ],
      "execution_count": null,
      "outputs": [
        {
          "output_type": "stream",
          "name": "stdout",
          "text": [
            "it is a curzon number\n"
          ]
        }
      ]
    },
    {
      "cell_type": "code",
      "metadata": {
        "colab": {
          "base_uri": "https://localhost:8080/"
        },
        "id": "vmE2o1qAVqcV",
        "outputId": "1796bc92-9fcd-4e08-8903-a5e82dca265b"
      },
      "source": [
        "get_num = 10\n",
        "first_answer = (2 ** get_num) + 1\n",
        "second_answer = (2*get_num) + 1\n",
        "get_rem = (first_answer%second_answer)\n",
        "if(get_rem==0):\n",
        "  print(\"it is a curzon number\")\n",
        "else:\n",
        "  print(\"it is not a curzon number\")\n"
      ],
      "execution_count": null,
      "outputs": [
        {
          "output_type": "stream",
          "name": "stdout",
          "text": [
            "it is not a curzon number\n"
          ]
        }
      ]
    }
  ]
}