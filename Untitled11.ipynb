{
  "nbformat": 4,
  "nbformat_minor": 0,
  "metadata": {
    "colab": {
      "name": "Untitled11.ipynb",
      "provenance": [],
      "authorship_tag": "ABX9TyMhuYmR25gwuNSYphXC8G0H",
      "include_colab_link": true
    },
    "kernelspec": {
      "name": "python3",
      "display_name": "Python 3"
    },
    "language_info": {
      "name": "python"
    }
  },
  "cells": [
    {
      "cell_type": "markdown",
      "metadata": {
        "id": "view-in-github",
        "colab_type": "text"
      },
      "source": [
        "<a href=\"https://colab.research.google.com/github/snehil1693/python/blob/main/Untitled11.ipynb\" target=\"_parent\"><img src=\"https://colab.research.google.com/assets/colab-badge.svg\" alt=\"Open In Colab\"/></a>"
      ]
    },
    {
      "cell_type": "code",
      "metadata": {
        "colab": {
          "base_uri": "https://localhost:8080/"
        },
        "id": "08n_XMpsbjBU",
        "outputId": "f165e2c3-2061-4811-cded-b28f8fb12271"
      },
      "source": [
        "str1 = \"hello how are you hello we are good\"\n",
        "get_list_sting = str1.split(\" \")\n",
        "print(get_list_sting)"
      ],
      "execution_count": null,
      "outputs": [
        {
          "output_type": "stream",
          "name": "stdout",
          "text": [
            "['hello', 'how', 'are', 'you', 'hello', 'we', 'are', 'good']\n"
          ]
        }
      ]
    },
    {
      "cell_type": "code",
      "metadata": {
        "colab": {
          "base_uri": "https://localhost:8080/"
        },
        "id": "xs_2Vj23d6_O",
        "outputId": "21f9dc3d-89ff-4eed-f2ae-53610054fcc3"
      },
      "source": [
        "str1 = \"hello how are you hello we are good\"\n",
        "get_list_string = str1.split(\" \")\n",
        "print(get_list_string)\n",
        "get_list_without_duplicate = list(set(get_list_sting))\n",
        "for i in get_list_without_duplicate:\n",
        "  \n",
        "  print(i, \" \" ,get_list_string.count(i))\n",
        " \n"
      ],
      "execution_count": null,
      "outputs": [
        {
          "output_type": "stream",
          "name": "stdout",
          "text": [
            "['hello', 'how', 'are', 'you', 'hello', 'we', 'are', 'good']\n",
            "you   1\n",
            "we   1\n",
            "hello   2\n",
            "good   1\n",
            "are   2\n",
            "how   1\n"
          ]
        }
      ]
    },
    {
      "cell_type": "code",
      "metadata": {
        "colab": {
          "base_uri": "https://localhost:8080/"
        },
        "id": "ZlZXcNu7gqqo",
        "outputId": "eec41146-80c7-41b5-c9a4-75d51acdc2ff"
      },
      "source": [
        "str1 = \"hello how are you hello we are good\"\n",
        "get_list_string = str1.split(\" \")\n",
        "print(len(get_list_string))\n"
      ],
      "execution_count": null,
      "outputs": [
        {
          "output_type": "stream",
          "name": "stdout",
          "text": [
            "8\n"
          ]
        }
      ]
    },
    {
      "cell_type": "code",
      "metadata": {
        "id": "n5lpQH0BjENK"
      },
      "source": [
        ""
      ],
      "execution_count": null,
      "outputs": []
    },
    {
      "cell_type": "code",
      "metadata": {
        "id": "daTkPjEui2T_"
      },
      "source": [
        ""
      ],
      "execution_count": null,
      "outputs": []
    }
  ]
}