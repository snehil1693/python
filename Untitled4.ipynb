{
  "nbformat": 4,
  "nbformat_minor": 0,
  "metadata": {
    "colab": {
      "name": "Untitled4.ipynb",
      "provenance": [],
      "collapsed_sections": [],
      "authorship_tag": "ABX9TyPyLKybQFkIKp0ZrBMgbk6d",
      "include_colab_link": true
    },
    "kernelspec": {
      "name": "python3",
      "display_name": "Python 3"
    },
    "language_info": {
      "name": "python"
    }
  },
  "cells": [
    {
      "cell_type": "markdown",
      "metadata": {
        "id": "view-in-github",
        "colab_type": "text"
      },
      "source": [
        "<a href=\"https://colab.research.google.com/github/snehil1693/python/blob/main/Untitled4.ipynb\" target=\"_parent\"><img src=\"https://colab.research.google.com/assets/colab-badge.svg\" alt=\"Open In Colab\"/></a>"
      ]
    },
    {
      "cell_type": "code",
      "metadata": {
        "colab": {
          "base_uri": "https://localhost:8080/"
        },
        "id": "WXBdMdEXNutH",
        "outputId": "d8a89189-52b6-44c4-d24b-de9556011c38"
      },
      "source": [
        "number = 12345\n",
        "rev = 0\n",
        "while(number!=0):\n",
        "  rem = number % 10 # remainder\n",
        "  print(rem)\n",
        "  rev = rev * 10 + rem\n",
        "  number = number//10 # divisore\n",
        "\n",
        "\n",
        "\n"
      ],
      "execution_count": null,
      "outputs": [
        {
          "output_type": "stream",
          "text": [
            "5\n",
            "4\n",
            "3\n",
            "2\n",
            "1\n"
          ],
          "name": "stdout"
        }
      ]
    },
    {
      "cell_type": "code",
      "metadata": {
        "colab": {
          "base_uri": "https://localhost:8080/"
        },
        "id": "hXP7W2g8RfJf",
        "outputId": "90da1708-210d-485b-dd42-a9ed01e468b5"
      },
      "source": [
        "number = 12345\n",
        "rev = 0\n",
        "while(number!=0):\n",
        "  rem = number % 10 \n",
        "  rev = rev * 10 + rem\n",
        "  number = number//10\n",
        "print(rev)"
      ],
      "execution_count": null,
      "outputs": [
        {
          "output_type": "stream",
          "text": [
            "54321\n"
          ],
          "name": "stdout"
        }
      ]
    },
    {
      "cell_type": "code",
      "metadata": {
        "colab": {
          "base_uri": "https://localhost:8080/"
        },
        "id": "nq0uaovhNweI",
        "outputId": "4bf208aa-cd0a-4540-87c8-025b28edf17d"
      },
      "source": [
        "number = 12345\n",
        "add = 0\n",
        "while(number!=0):\n",
        "  rem = number % 10\n",
        "  add = add  + rem\n",
        "  number = number//10\n",
        "print(add)\n"
      ],
      "execution_count": null,
      "outputs": [
        {
          "output_type": "stream",
          "text": [
            "15\n"
          ],
          "name": "stdout"
        }
      ]
    },
    {
      "cell_type": "code",
      "metadata": {
        "colab": {
          "base_uri": "https://localhost:8080/"
        },
        "id": "Tk69etBMVN-7",
        "outputId": "04a3d5f7-e204-42ac-e11e-705165cd560f"
      },
      "source": [
        "number = 123495\n",
        "test_add = 0\n",
        "test_count = 0\n",
        "while(number!=0):\n",
        "  rem = number % 10\n",
        "  test_add = test_add + rem\n",
        "  test_count = test_count + 1\n",
        "  number = number // 10\n",
        "  \n",
        "test_avg = test_add/test_count\n",
        "print(test_avg)"
      ],
      "execution_count": null,
      "outputs": [
        {
          "output_type": "stream",
          "text": [
            "4.0\n"
          ],
          "name": "stdout"
        }
      ]
    },
    {
      "cell_type": "code",
      "metadata": {
        "id": "bpBKBZ-0XNCw",
        "colab": {
          "base_uri": "https://localhost:8080/"
        },
        "outputId": "e7f989c2-8553-4227-d1ef-7615640296c6"
      },
      "source": [
        "number = 15451\n",
        "test_add = 0\n",
        "\n",
        "while(number!=0):\n",
        "  rem = number % 10\n",
        "  test_add = test_add *10 + rem\n",
        "  number = number // 10\n",
        "\n",
        "print(test_add)\n"
      ],
      "execution_count": null,
      "outputs": [
        {
          "output_type": "stream",
          "text": [
            "15451\n"
          ],
          "name": "stdout"
        }
      ]
    },
    {
      "cell_type": "code",
      "metadata": {
        "id": "KBw7S9hhayM6"
      },
      "source": [
        ""
      ],
      "execution_count": null,
      "outputs": []
    },
    {
      "cell_type": "code",
      "metadata": {
        "id": "p4z2ljc5aoA3"
      },
      "source": [
        ""
      ],
      "execution_count": null,
      "outputs": []
    }
  ]
}