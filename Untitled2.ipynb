{
  "nbformat": 4,
  "nbformat_minor": 0,
  "metadata": {
    "colab": {
      "name": "Untitled2.ipynb",
      "provenance": [],
      "collapsed_sections": [],
      "authorship_tag": "ABX9TyNu1S6c7CxFWPN86aTdE6sO",
      "include_colab_link": true
    },
    "kernelspec": {
      "name": "python3",
      "display_name": "Python 3"
    },
    "language_info": {
      "name": "python"
    }
  },
  "cells": [
    {
      "cell_type": "markdown",
      "metadata": {
        "id": "view-in-github",
        "colab_type": "text"
      },
      "source": [
        "<a href=\"https://colab.research.google.com/github/snehil1693/python/blob/main/Untitled2.ipynb\" target=\"_parent\"><img src=\"https://colab.research.google.com/assets/colab-badge.svg\" alt=\"Open In Colab\"/></a>"
      ]
    },
    {
      "cell_type": "code",
      "metadata": {
        "colab": {
          "base_uri": "https://localhost:8080/"
        },
        "id": "CrvsZqOx7cHJ",
        "outputId": "96dd56e6-c04d-4823-dde8-bbe302fc410f"
      },
      "source": [
        "for i in range(10):\n",
        " print(i)"
      ],
      "execution_count": null,
      "outputs": [
        {
          "output_type": "stream",
          "text": [
            "0\n",
            "1\n",
            "2\n",
            "3\n",
            "4\n",
            "5\n",
            "6\n",
            "7\n",
            "8\n",
            "9\n"
          ],
          "name": "stdout"
        }
      ]
    },
    {
      "cell_type": "code",
      "metadata": {
        "colab": {
          "base_uri": "https://localhost:8080/"
        },
        "id": "cljRPe3y7uQQ",
        "outputId": "d41ba2ee-2dd8-4f5e-e47c-5c6950d126f2"
      },
      "source": [
        "for i in range(20,30):\n",
        "  print(i)"
      ],
      "execution_count": null,
      "outputs": [
        {
          "output_type": "stream",
          "text": [
            "20\n",
            "21\n",
            "22\n",
            "23\n",
            "24\n",
            "25\n",
            "26\n",
            "27\n",
            "28\n",
            "29\n"
          ],
          "name": "stdout"
        }
      ]
    },
    {
      "cell_type": "code",
      "metadata": {
        "colab": {
          "base_uri": "https://localhost:8080/"
        },
        "id": "LjRGlY5p73UG",
        "outputId": "8292eafd-d71d-443a-ebe1-59628598d5f3"
      },
      "source": [
        "for i in range(10,40,2):\n",
        "  print(i)"
      ],
      "execution_count": null,
      "outputs": [
        {
          "output_type": "stream",
          "text": [
            "10\n",
            "12\n",
            "14\n",
            "16\n",
            "18\n",
            "20\n",
            "22\n",
            "24\n",
            "26\n",
            "28\n",
            "30\n",
            "32\n",
            "34\n",
            "36\n",
            "38\n"
          ],
          "name": "stdout"
        }
      ]
    },
    {
      "cell_type": "code",
      "metadata": {
        "colab": {
          "base_uri": "https://localhost:8080/"
        },
        "id": "meX-CJxS8BKg",
        "outputId": "93ab7e72-3a85-487e-d940-d04d4524a011"
      },
      "source": [
        "for i in range(50,30,-3):\n",
        "  print(i)"
      ],
      "execution_count": null,
      "outputs": [
        {
          "output_type": "stream",
          "text": [
            "50\n",
            "47\n",
            "44\n",
            "41\n",
            "38\n",
            "35\n",
            "32\n"
          ],
          "name": "stdout"
        }
      ]
    },
    {
      "cell_type": "code",
      "metadata": {
        "colab": {
          "base_uri": "https://localhost:8080/"
        },
        "id": "4n68gCav8LPd",
        "outputId": "6ec788a5-305a-4513-d34f-50bba2b6ca84"
      },
      "source": [
        "number = 0\n",
        "for i in range(1,21):\n",
        "  number = i+number\n",
        "print(number)\n"
      ],
      "execution_count": 2,
      "outputs": [
        {
          "output_type": "stream",
          "text": [
            "210\n"
          ],
          "name": "stdout"
        }
      ]
    },
    {
      "cell_type": "code",
      "metadata": {
        "colab": {
          "base_uri": "https://localhost:8080/"
        },
        "id": "Y_1V-vzL9V-v",
        "outputId": "ee36a086-0b35-4a12-e4fc-925773fa2470"
      },
      "source": [
        "number = 1\n",
        "for i in range(1,21):\n",
        "  number = i * number\n",
        "print(number)"
      ],
      "execution_count": 4,
      "outputs": [
        {
          "output_type": "stream",
          "text": [
            "2432902008176640000\n"
          ],
          "name": "stdout"
        }
      ]
    },
    {
      "cell_type": "markdown",
      "metadata": {
        "id": "CnR2f_lE-2xu"
      },
      "source": [
        ""
      ]
    },
    {
      "cell_type": "code",
      "metadata": {
        "id": "oDMhNyX19R6r",
        "colab": {
          "base_uri": "https://localhost:8080/"
        },
        "outputId": "2ee21d92-0cfb-414c-e975-ad7e7cb62a19"
      },
      "source": [
        "for i in range(1,21):\n",
        "  if((i % 3) !=0 ):\n",
        "    print(i)\n",
        "  "
      ],
      "execution_count": 7,
      "outputs": [
        {
          "output_type": "stream",
          "text": [
            "1\n",
            "2\n",
            "4\n",
            "5\n",
            "7\n",
            "8\n",
            "10\n",
            "11\n",
            "13\n",
            "14\n",
            "16\n",
            "17\n",
            "19\n",
            "20\n"
          ],
          "name": "stdout"
        }
      ]
    },
    {
      "cell_type": "code",
      "metadata": {
        "colab": {
          "base_uri": "https://localhost:8080/"
        },
        "id": "_YGtjEgm2c8B",
        "outputId": "eb85f415-53f4-463c-9c37-7ff275f0e96a"
      },
      "source": [
        "for i in range(1,21):\n",
        "  if((i % 2) == 0):\n",
        "    print(i)"
      ],
      "execution_count": 10,
      "outputs": [
        {
          "output_type": "stream",
          "text": [
            "2\n",
            "4\n",
            "6\n",
            "8\n",
            "10\n",
            "12\n",
            "14\n",
            "16\n",
            "18\n",
            "20\n"
          ],
          "name": "stdout"
        }
      ]
    },
    {
      "cell_type": "code",
      "metadata": {
        "colab": {
          "base_uri": "https://localhost:8080/"
        },
        "id": "Mu61AOIG3UQ8",
        "outputId": "eea32159-2a90-46bf-ccdd-d74b871cccbb"
      },
      "source": [
        "test_sum = 0\n",
        "test_count = 0\n",
        "for i in range(1,26):\n",
        "    test_sum = i+test_sum\n",
        "    test_count = test_count + 1\n",
        "get_avg = test_sum/test_count\n",
        "print(get_avg)\n",
        "  "
      ],
      "execution_count": 16,
      "outputs": [
        {
          "output_type": "stream",
          "text": [
            "13.0\n"
          ],
          "name": "stdout"
        }
      ]
    },
    {
      "cell_type": "code",
      "metadata": {
        "colab": {
          "base_uri": "https://localhost:8080/"
        },
        "id": "69i1MkA65sSy",
        "outputId": "e21f1dc8-cf3c-4d44-e343-f4240e5a2432"
      },
      "source": [
        "for i in range(1,21):\n",
        "  if((i % 2 == 0) or (i % 3 == 0) or (i % 5 ==0)):\n",
        "    print(i)\n"
      ],
      "execution_count": 19,
      "outputs": [
        {
          "output_type": "stream",
          "text": [
            "2\n",
            "3\n",
            "4\n",
            "5\n",
            "6\n",
            "8\n",
            "9\n",
            "10\n",
            "12\n",
            "14\n",
            "15\n",
            "16\n",
            "18\n",
            "20\n"
          ],
          "name": "stdout"
        }
      ]
    },
    {
      "cell_type": "code",
      "metadata": {
        "id": "TW9RjsvI4qW4"
      },
      "source": [
        ""
      ],
      "execution_count": null,
      "outputs": []
    }
  ]
}