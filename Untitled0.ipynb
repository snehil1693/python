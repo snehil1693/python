{
  "nbformat": 4,
  "nbformat_minor": 0,
  "metadata": {
    "colab": {
      "name": "Untitled0.ipynb",
      "provenance": [],
      "include_colab_link": true
    },
    "kernelspec": {
      "name": "python3",
      "display_name": "Python 3"
    },
    "language_info": {
      "name": "python"
    }
  },
  "cells": [
    {
      "cell_type": "markdown",
      "metadata": {
        "id": "view-in-github",
        "colab_type": "text"
      },
      "source": [
        "<a href=\"https://colab.research.google.com/github/snehil1693/python/blob/main/Untitled0.ipynb\" target=\"_parent\"><img src=\"https://colab.research.google.com/assets/colab-badge.svg\" alt=\"Open In Colab\"/></a>"
      ]
    },
    {
      "cell_type": "code",
      "metadata": {
        "colab": {
          "base_uri": "https://localhost:8080/"
        },
        "id": "jc_Gdpm-6Mzp",
        "outputId": "e957a6ec-1889-4756-89f1-f079455b24d1"
      },
      "source": [
        "first_length = int(input(\"enter the length\"))\n",
        "second_breadth = int(input(\"enter the breadth\"))\n",
        "if (first_length == second_breadth):\n",
        "     print(\"it is a square\")\n",
        "else:\n",
        "     print(\"it is rectangle\")"
      ],
      "execution_count": null,
      "outputs": [
        {
          "output_type": "stream",
          "text": [
            "enter the length10\n",
            "enter the breadth20\n",
            "it is rectangle\n"
          ],
          "name": "stdout"
        }
      ]
    },
    {
      "cell_type": "code",
      "metadata": {
        "id": "EHrRfxUu5xET"
      },
      "source": [
        ""
      ],
      "execution_count": null,
      "outputs": []
    },
    {
      "cell_type": "code",
      "metadata": {
        "id": "ajeLsKif50QT"
      },
      "source": [
        ""
      ],
      "execution_count": null,
      "outputs": []
    },
    {
      "cell_type": "code",
      "metadata": {
        "id": "0s_SXRlU6T8_",
        "colab": {
          "base_uri": "https://localhost:8080/"
        },
        "outputId": "0a8df04b-fa4f-419c-a83b-a35052a28141"
      },
      "source": [
        "first = int(input(\"enter the first value = \"))\n",
        "second = int(input(\"enter the second value = \"))\n",
        "if (first > second):\n",
        "     print(first)\n",
        "elif(first==second):\n",
        "    print(\"both are equals\")\n",
        "else:\n",
        "    print(second)\n",
        "     "
      ],
      "execution_count": null,
      "outputs": [
        {
          "output_type": "stream",
          "text": [
            "enter the first value = 89\n",
            "enter the second value = 89\n",
            "both are equals\n"
          ],
          "name": "stdout"
        }
      ]
    },
    {
      "cell_type": "code",
      "metadata": {
        "id": "7nMThh0DPHyX",
        "colab": {
          "base_uri": "https://localhost:8080/"
        },
        "outputId": "f0c88c00-f69e-4186-e3f4-30acfcd90a69"
      },
      "source": [
        "purchased = int(input(\"enter the quantity = \"))\n",
        "real_price = 100 * purchased\n",
        "if(real_price>100):\n",
        "  discount = 0.1 * real_price\n",
        "  Actual_Price = real_price - discount\n",
        "  print(Actual_Price)\n",
        "else:\n",
        "  print(\"No discount\")  "
      ],
      "execution_count": null,
      "outputs": [
        {
          "output_type": "stream",
          "text": [
            "enter the quantity = 11\n",
            "990.0\n"
          ],
          "name": "stdout"
        }
      ]
    },
    {
      "cell_type": "code",
      "metadata": {
        "colab": {
          "base_uri": "https://localhost:8080/"
        },
        "id": "-jhIg8bpq_sV",
        "outputId": "0b086090-5330-4eed-f5a7-0e54fab422ba"
      },
      "source": [
        "salary = int(input(\"enter the salary = \"))\n",
        "service = int(input(\"enter the years = \"))\n",
        "if( service > 5):\n",
        "  bonus = 0.05 * salary\n",
        "  net_salary = bonus + salary\n",
        "  str_in = net_salary\n",
        "  print(str_in)\n",
        "\n",
        "     "
      ],
      "execution_count": null,
      "outputs": [
        {
          "output_type": "stream",
          "text": [
            "enter the salary = 10000\n",
            "enter the years = 7\n",
            "10500.0\n"
          ],
          "name": "stdout"
        }
      ]
    },
    {
      "cell_type": "code",
      "metadata": {
        "colab": {
          "base_uri": "https://localhost:8080/"
        },
        "id": "78xbbJtstnaD",
        "outputId": "7cfbb237-c793-42e2-95b5-02c6fd1ba97b"
      },
      "source": [
        "grade = int(input(\"enter the grade = \"))\n",
        "str_in = str(grade)\n",
        "if( grade >= 80):\n",
        "     print(\"A \" + str_in)\n",
        "elif( grade >= 60 and grade <80):\n",
        "     print(\"B \" + str_in)\n",
        "elif( grade >= 50 and grade <60):\n",
        "     print(\"C \" + str_in)\n",
        "elif( grade >= 45 and grade <50):\n",
        "     print(\"D \" + str_in)\n",
        "elif( grade >= 25 and grade <45):\n",
        "     print(\"E \" + str_in)\n",
        "else:\n",
        "     print(\"F \" + str_in)"
      ],
      "execution_count": null,
      "outputs": [
        {
          "output_type": "stream",
          "text": [
            "enter the grade = 67\n",
            "B 67\n"
          ],
          "name": "stdout"
        }
      ]
    },
    {
      "cell_type": "code",
      "metadata": {
        "colab": {
          "base_uri": "https://localhost:8080/"
        },
        "id": "B0EoW1UMT4VO",
        "outputId": "5d1bac91-1cd1-47b5-ecc1-fc5326ab6b7e"
      },
      "source": [
        "first = int(input(\"first = \"))\n",
        "second = int(input(\"second = \"))\n",
        "third = int(input(\"third = \"))\n",
        "\n",
        "if (first > second and first > third):\n",
        "    print(\"first is highest\")\n",
        "elif(second > third and second > third):\n",
        "    print(\"second is highest\")\n",
        "elif(third > first and third > second):\n",
        "    print(\"third is highest\")\n",
        "\t"
      ],
      "execution_count": null,
      "outputs": [
        {
          "output_type": "stream",
          "text": [
            "first = 78\n",
            "second = 86\n",
            "third = 90\n",
            "third is highest\n"
          ],
          "name": "stdout"
        }
      ]
    },
    {
      "cell_type": "code",
      "metadata": {
        "colab": {
          "base_uri": "https://localhost:8080/"
        },
        "id": "Bhkzlw9fUCW9",
        "outputId": "7f72fe65-dcdf-40d6-ce9c-c0a862fbb7cd"
      },
      "source": [
        "first = int(input(\"first = \"))\n",
        "second = int(input(\"second = \"))\n",
        "third = int(input(\"third = \"))\n",
        "\n",
        "if (first < second and first < third):\n",
        "     print(\"first is smallest\")\n",
        "elif (second<first and second<third):\n",
        "     print(\"second is smallest\")\n",
        "elif (third <first and third < second):\n",
        "     print(\"third is smallest\")"
      ],
      "execution_count": null,
      "outputs": [
        {
          "output_type": "stream",
          "text": [
            "first = 15\n",
            "second = 29\n",
            "third = 35\n",
            "first is smallest\n"
          ],
          "name": "stdout"
        }
      ]
    },
    {
      "cell_type": "code",
      "metadata": {
        "id": "Uze3bILYUJWg",
        "colab": {
          "base_uri": "https://localhost:8080/"
        },
        "outputId": "826a0682-62dc-4c81-8c8a-96425cdb9087"
      },
      "source": [
        "class_held = int(input(\"No of classes held = \"))\n",
        "class_attended = int(input(\"No of classes attended = \"))\n",
        "min_attendence = (class_attended / class_held) * 100\n",
        "str_in = str(min_attendence)\n",
        "if (min_attendence > 75 and min_attendence <100):\n",
        "    print(\"allowed to sit = \" + str_in)\n",
        "else:\n",
        "    print(\"not allowed to sit = \" + str_in)"
      ],
      "execution_count": null,
      "outputs": [
        {
          "output_type": "stream",
          "text": [
            "No of classes held = 100\n",
            "No of classes attended = 80\n",
            "allowed to sit = 80\n"
          ],
          "name": "stdout"
        }
      ]
    }
  ]
}