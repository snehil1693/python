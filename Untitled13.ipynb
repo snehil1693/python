{
  "nbformat": 4,
  "nbformat_minor": 0,
  "metadata": {
    "colab": {
      "name": "Untitled13.ipynb",
      "provenance": [],
      "authorship_tag": "ABX9TyO8nlL/vza0FTe1UwbtTOzu",
      "include_colab_link": true
    },
    "kernelspec": {
      "name": "python3",
      "display_name": "Python 3"
    },
    "language_info": {
      "name": "python"
    }
  },
  "cells": [
    {
      "cell_type": "markdown",
      "metadata": {
        "id": "view-in-github",
        "colab_type": "text"
      },
      "source": [
        "<a href=\"https://colab.research.google.com/github/snehil1693/python/blob/main/Untitled13.ipynb\" target=\"_parent\"><img src=\"https://colab.research.google.com/assets/colab-badge.svg\" alt=\"Open In Colab\"/></a>"
      ]
    },
    {
      "cell_type": "code",
      "metadata": {
        "colab": {
          "base_uri": "https://localhost:8080/"
        },
        "id": "70eVkmKVMc20",
        "outputId": "7d7e4554-d2ea-4619-df88-74b99b947131"
      },
      "source": [
        "list1 = [1,2,3,4,5,5,6]\n",
        "number = 5\n",
        "list2_occurences = []\n",
        "for i in range (0,len(list1)):\n",
        "  if (list1[i] == 5):\n",
        "    list2_occurences.append(i)\n",
        "print(list2_occurences)\n",
        "\n",
        "\n",
        "\n"
      ],
      "execution_count": 3,
      "outputs": [
        {
          "output_type": "stream",
          "name": "stdout",
          "text": [
            "[4, 5]\n"
          ]
        }
      ]
    },
    {
      "cell_type": "code",
      "metadata": {
        "colab": {
          "base_uri": "https://localhost:8080/"
        },
        "id": "89veCFlyNpd9",
        "outputId": "2124ac12-504b-4540-a5d8-d9ef236ba960"
      },
      "source": [
        "#without paramter and without return type\n",
        "def first():\n",
        "  print(\"Hello\")\n",
        "\n",
        "first ()\n",
        "first ()"
      ],
      "execution_count": 10,
      "outputs": [
        {
          "output_type": "stream",
          "name": "stdout",
          "text": [
            "Hello\n",
            "Hello\n"
          ]
        }
      ]
    },
    {
      "cell_type": "code",
      "metadata": {
        "colab": {
          "base_uri": "https://localhost:8080/"
        },
        "id": "uPYWGvI_OBmi",
        "outputId": "853e7198-7039-4167-e08b-23e9278ce010"
      },
      "source": [
        "#with parameter and without return type\n",
        "\n",
        "def find_sum(a,b):\n",
        "  res = a+b\n",
        "  print(res)\n",
        "\n",
        "find_sum(10,30)\n",
        "find_sum(90,60)"
      ],
      "execution_count": 13,
      "outputs": [
        {
          "output_type": "stream",
          "name": "stdout",
          "text": [
            "40\n",
            "150\n"
          ]
        }
      ]
    },
    {
      "cell_type": "code",
      "metadata": {
        "colab": {
          "base_uri": "https://localhost:8080/"
        },
        "id": "ez2McWjdPMuq",
        "outputId": "b0950afa-c5f6-41ec-b4fa-b1a97253d741"
      },
      "source": [
        "def find_index(get_list_input,get_number):\n",
        "  list2_occurences = []\n",
        "  for i in range (0,len(get_list_input)):\n",
        "    if(get_list_input[i] == get_number):\n",
        "      list2_occurences.append(i)\n",
        "  print(list2_occurences)\n",
        "\n",
        "list1 = [1,2,3,4,5,5,6]\n",
        "number = 5\n",
        "find_index(list1,number)"
      ],
      "execution_count": 19,
      "outputs": [
        {
          "output_type": "stream",
          "name": "stdout",
          "text": [
            "[4, 5]\n"
          ]
        }
      ]
    },
    {
      "cell_type": "code",
      "metadata": {
        "colab": {
          "base_uri": "https://localhost:8080/"
        },
        "id": "qWlqpDLrQnNA",
        "outputId": "83c1f6d1-10a0-478c-d48c-e670a84e1870"
      },
      "source": [
        "#with parmeter and with return type\n",
        "\n",
        "def find_sum(a,b):\n",
        "  res = a+b\n",
        "  return res\n",
        "\n",
        "res = find_sum(10,20)\n",
        "print(res)\n",
        "res = find_sum(30,40)\n",
        "print(res)\n"
      ],
      "execution_count": 21,
      "outputs": [
        {
          "output_type": "stream",
          "name": "stdout",
          "text": [
            "30\n",
            "70\n"
          ]
        }
      ]
    },
    {
      "cell_type": "code",
      "metadata": {
        "colab": {
          "base_uri": "https://localhost:8080/"
        },
        "id": "bGsgk0JDRqQ8",
        "outputId": "d143bf69-52cb-43dd-f685-3a955809dc10"
      },
      "source": [
        "def find_index(get_list_input,get_number):\n",
        "  list2_occurences = []\n",
        "  for i in range (0,len(get_list_input)):\n",
        "    if(get_list_input[i] == get_number):\n",
        "      list2_occurences.append(i)\n",
        "  return list2_occurences\n",
        "\n",
        "list1 = [1,2,3,4,5,5,6]\n",
        "number = 5\n",
        "res1 = find_index(list1,number)\n",
        "print(res1)\n",
        "\n",
        "\n",
        "\n",
        "\n"
      ],
      "execution_count": 22,
      "outputs": [
        {
          "output_type": "stream",
          "name": "stdout",
          "text": [
            "[4, 5]\n"
          ]
        }
      ]
    },
    {
      "cell_type": "code",
      "metadata": {
        "colab": {
          "base_uri": "https://localhost:8080/"
        },
        "id": "wazq4Z8wS26n",
        "outputId": "8f462c61-121c-4aa4-f567-facf3b2de5df"
      },
      "source": [
        "# without parameter and with return type\n",
        "\n",
        "def first():\n",
        "  return \"hello\"\n",
        "\n",
        "res = first()\n",
        "print(res)\n",
        "print(res)"
      ],
      "execution_count": 25,
      "outputs": [
        {
          "output_type": "stream",
          "name": "stdout",
          "text": [
            "hello\n",
            "hello\n"
          ]
        }
      ]
    }
  ]
}